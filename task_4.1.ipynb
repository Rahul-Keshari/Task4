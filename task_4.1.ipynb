{
 "cells": [
  {
   "cell_type": "code",
   "execution_count": 1,
   "metadata": {},
   "outputs": [],
   "source": [
    "import cv2\n",
    "import numpy"
   ]
  },
  {
   "cell_type": "code",
   "execution_count": 2,
   "metadata": {},
   "outputs": [],
   "source": [
    "img= numpy.zeros((512,512,3))\n",
    "p=cv2.putText(img, 'Task 4.1', (100,450), cv2.FONT_HERSHEY_SIMPLEX,2 , (255,150,0), 9, cv2.LINE_AA)"
   ]
  },
  {
   "cell_type": "code",
   "execution_count": 3,
   "metadata": {},
   "outputs": [],
   "source": [
    "cv2.rectangle(img, (165,180), (240,320), (0,255,10), 1)\n",
    "cv2.rectangle(img, (100,95), (500,320), (0,255,10), 1)\n",
    "cv2.rectangle(img, (330,120), (360,150), (0,255,10), 1)\n",
    "cv2.rectangle(img, (480,120), (450,150), (0,255,10), 1)\n",
    "cv2.line(img, (200,20),(100,95), (0,255,10),1)\n",
    "cv2.line(img, (200,20),(300,95), (0,255,10),1)\n",
    "cv2.line(img, (200,20),(400,20), (0,255,10),1)\n",
    "cv2.line(img, (400,20),(500,95), (0,255,10),1)\n",
    "cv2.line(img, (300,95),(300,320), (0,255,10), 1)\n",
    "\n",
    "cv2.circle(img, (30,30), 20, (0,20,255),-1)\n",
    "\n",
    "cv2.circle(img, (20,150), 15, (255,15,0),3)\n",
    "cv2.line(img, (20,165),(20,210), (255,15,0), 3)\n",
    "cv2.line(img, (20,175),(5,192), (255,15,0), 3)\n",
    "cv2.line(img, (20,175),(35,192), (255,15,0), 3)\n",
    "cv2.line(img, (20,210),(5,228), (255,15,0), 3)\n",
    "cv2.line(img, (20,210),(35,228), (255,15,0), 3)\n",
    "\n",
    "\n",
    "cv2.imshow(\"task\", img)\n",
    "cv2.imwrite(\"task4.1.jpg\", img)\n",
    "cv2.waitKey()\n",
    "cv2.destroyAllWindows()"
   ]
  },
  {
   "cell_type": "code",
   "execution_count": null,
   "metadata": {},
   "outputs": [],
   "source": []
  },
  {
   "cell_type": "code",
   "execution_count": null,
   "metadata": {},
   "outputs": [],
   "source": []
  }
 ],
 "metadata": {
  "kernelspec": {
   "display_name": "Python 3",
   "language": "python",
   "name": "python3"
  },
  "language_info": {
   "codemirror_mode": {
    "name": "ipython",
    "version": 3
   },
   "file_extension": ".py",
   "mimetype": "text/x-python",
   "name": "python",
   "nbconvert_exporter": "python",
   "pygments_lexer": "ipython3",
   "version": "3.8.3"
  }
 },
 "nbformat": 4,
 "nbformat_minor": 4
}
